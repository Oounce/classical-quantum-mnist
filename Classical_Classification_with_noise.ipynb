{
  "nbformat": 4,
  "nbformat_minor": 0,
  "metadata": {
    "colab": {
      "provenance": [],
      "gpuType": "T4"
    },
    "kernelspec": {
      "name": "python3",
      "display_name": "Python 3"
    },
    "language_info": {
      "name": "python"
    },
    "accelerator": "GPU"
  },
  "cells": [
    {
      "cell_type": "code",
      "source": [
        "import numpy as np\n",
        "import random\n",
        "import torch\n",
        "\n",
        "def set_random_seed(seed):\n",
        "    torch.manual_seed(seed)\n",
        "    np.random.seed(seed)\n",
        "    random.seed(seed)\n",
        "\n",
        "set_random_seed(42)"
      ],
      "metadata": {
        "id": "IoUELGopb5os"
      },
      "execution_count": null,
      "outputs": []
    },
    {
      "cell_type": "markdown",
      "source": [
        "# Dataset"
      ],
      "metadata": {
        "id": "BShCVpwvXDSj"
      }
    },
    {
      "cell_type": "code",
      "source": [
        "import torch\n",
        "from scipy.linalg import hadamard\n",
        "\n",
        "device = torch.device(\"cuda:0\" if torch.cuda.is_available() else \"cpu\")\n",
        "print(\"Cuda available: \", torch.cuda.is_available(), '\\n')\n",
        "\n",
        "# Let's create Hadamard matrix, where each row is 32x32 hadamard pattern with {-1,1} elements\n",
        "px = 32\n",
        "H = torch.from_numpy(hadamard(px**2)).to(device)\n",
        "# In real (physical) single pixel mesurements we use matrixes\n",
        "Hplus = (H + 1) / 2\n",
        "Hminus = (1 - H) / 2"
      ],
      "metadata": {
        "colab": {
          "base_uri": "https://localhost:8080/"
        },
        "id": "E-5gndPu5Dv4",
        "outputId": "c4d0473c-7161-481f-b544-cd4d95b9773c"
      },
      "execution_count": null,
      "outputs": [
        {
          "output_type": "stream",
          "name": "stdout",
          "text": [
            "Cuda available:  True \n",
            "\n"
          ]
        }
      ]
    },
    {
      "cell_type": "markdown",
      "source": [
        "Here are the functions, which create mesurements vectror for all patterns in Hadamard basis"
      ],
      "metadata": {
        "id": "1EiBGPL-hYOc"
      }
    },
    {
      "cell_type": "code",
      "source": [
        "def measurement(img):\n",
        "    Mplus = torch.matmul(Hplus, img.flatten().float()).to(device)\n",
        "    Mminus = torch.matmul(Hminus, img.flatten().float()).to(device)\n",
        "    M = (Mplus - Mminus)\n",
        "\n",
        "    return M"
      ],
      "metadata": {
        "id": "64SZUotaIGzu"
      },
      "execution_count": null,
      "outputs": []
    },
    {
      "cell_type": "code",
      "source": [
        "def batch_measurements(imgs):\n",
        "    vect = torch.zeros(len(imgs), len(imgs[0]) ** 2)\n",
        "\n",
        "    for i in range(len(imgs)):\n",
        "        img = imgs[i].to(device)\n",
        "        vect[i] = measurement(img)\n",
        "\n",
        "    return vect"
      ],
      "metadata": {
        "id": "NVI6D3vsILNY"
      },
      "execution_count": null,
      "outputs": []
    },
    {
      "cell_type": "markdown",
      "source": [
        "Out dataset with single pixel mesuarements and their class labels"
      ],
      "metadata": {
        "id": "1Vy-5MLvieiS"
      }
    },
    {
      "cell_type": "code",
      "source": [
        "from torchvision import transforms\n",
        "from torch.utils.data.dataset import Dataset\n",
        "\n",
        "class MesurementDataset(Dataset):\n",
        "    def __init__(self, mnist):\n",
        "        super().__init__()\n",
        "        self.labels = mnist.targets\n",
        "        images = mnist.data\n",
        "        transform = transforms.Compose([transforms.ConvertImageDtype(torch.float32),\n",
        "                                        transforms.Resize(32)])\n",
        "\n",
        "        self.target_images = transform(images)\n",
        "\n",
        "        self.measurements = batch_measurements(self.target_images).cpu()\n",
        "\n",
        "    def __getitem__(self, indx):\n",
        "        return self.measurements[indx], self.labels[indx]\n",
        "\n",
        "    def __len__(self):\n",
        "        return len(self.measurements)"
      ],
      "metadata": {
        "id": "LreMJx0mx4dd"
      },
      "execution_count": null,
      "outputs": []
    },
    {
      "cell_type": "code",
      "source": [
        "import torchvision\n",
        "from torch.utils.data import DataLoader\n",
        "from torchvision.datasets import MNIST\n",
        "from IPython.display import clear_output\n",
        "\n",
        "train_set = MesurementDataset(MNIST(root='./MNIST', train=True, download=True))\n",
        "test_set = MesurementDataset(MNIST(root='./MNIST', train=False, download=True))\n",
        "\n",
        "batch_size = 64\n",
        "train_loader = DataLoader(train_set, batch_size=batch_size, shuffle=True, num_workers=2)\n",
        "test_loader = DataLoader(test_set, batch_size=batch_size, shuffle=False, num_workers=2)\n",
        "\n",
        "clear_output()"
      ],
      "metadata": {
        "id": "ybGHfe1pwwKi"
      },
      "execution_count": null,
      "outputs": []
    },
    {
      "cell_type": "markdown",
      "source": [
        "To create an underdefined system of equlations we need to select the most important ones, so we need to calculate variance"
      ],
      "metadata": {
        "id": "f-UHIgUrTgI4"
      }
    },
    {
      "cell_type": "code",
      "source": [
        "import numpy as np\n",
        "\n",
        "variance = np.array([])\n",
        "for i in range(1024):\n",
        "    measurements_for_pattern = train_set[:][0][:,i]\n",
        "    variance = np.append(variance, np.var(measurements_for_pattern.numpy()))"
      ],
      "metadata": {
        "id": "fQ89CSfLUApe"
      },
      "execution_count": null,
      "outputs": []
    },
    {
      "cell_type": "markdown",
      "source": [
        "The most important patterns - with biggest dispersion trough the dataset"
      ],
      "metadata": {
        "id": "kxuh6pMrK1ix"
      }
    },
    {
      "cell_type": "code",
      "source": [
        "most_important = np.argsort(variance)[-64:]"
      ],
      "metadata": {
        "id": "_ViuRknHUEB0"
      },
      "execution_count": null,
      "outputs": []
    },
    {
      "cell_type": "markdown",
      "source": [
        "How our data look like"
      ],
      "metadata": {
        "id": "-IZB_7hcOWDN"
      }
    },
    {
      "cell_type": "code",
      "source": [
        "import matplotlib.pyplot as plt\n",
        "\n",
        "plt.hist(train_set[0][0][most_important].numpy())"
      ],
      "metadata": {
        "colab": {
          "base_uri": "https://localhost:8080/",
          "height": 517
        },
        "id": "qyPoaOQCyDDZ",
        "outputId": "6172148d-52d3-4043-a061-12d547fe08a2"
      },
      "execution_count": null,
      "outputs": [
        {
          "output_type": "execute_result",
          "data": {
            "text/plain": [
              "(array([ 1.,  2.,  1., 10., 29., 17.,  3.,  0.,  0.,  1.]),\n",
              " array([-117.36766052,  -91.46697998,  -65.56629181,  -39.66561127,\n",
              "         -13.76492596,   12.13575745,   38.0364418 ,   63.93712616,\n",
              "          89.8378067 ,  115.73849487,  141.63917542]),\n",
              " <BarContainer object of 10 artists>)"
            ]
          },
          "metadata": {},
          "execution_count": 23
        },
        {
          "output_type": "display_data",
          "data": {
            "text/plain": [
              "<Figure size 640x480 with 1 Axes>"
            ],
            "image/png": "[encoded data removed]"
          },
          "metadata": {}
        }
      ]
    },
    {
      "cell_type": "markdown",
      "source": [
        "# Model"
      ],
      "metadata": {
        "id": "KJH2aFxmKf0p"
      }
    },
    {
      "cell_type": "code",
      "source": [
        "import torch.nn as nn\n",
        "\n",
        "class Net(nn.Module):\n",
        "    def __init__(self):\n",
        "        super().__init__()\n",
        "        self.fc1 = nn.Linear(64, 128)\n",
        "        self.fc2 = nn.Linear(128, 10)\n",
        "        self.activation = nn.ReLU()\n",
        "\n",
        "    def forward(self, x):\n",
        "        x = x.view(-1, 64)\n",
        "        x = self.fc1(x)\n",
        "        x = self.activation(x)\n",
        "        x = self.fc2(x)\n",
        "        return x"
      ],
      "metadata": {
        "id": "s4LDcYwzhHck"
      },
      "execution_count": null,
      "outputs": []
    },
    {
      "cell_type": "markdown",
      "source": [
        "Class for plots"
      ],
      "metadata": {
        "id": "veME9ib6a0MZ"
      }
    },
    {
      "cell_type": "code",
      "execution_count": null,
      "metadata": {
        "id": "MjjqEXWLqsLo"
      },
      "outputs": [],
      "source": [
        "!pip install scikit-image\n",
        "!pip install -upgrade ipywidgets\n",
        "clear_output()"
      ]
    },
    {
      "cell_type": "code",
      "source": [
        "from IPython.display import clear_output\n",
        "from collections import defaultdict\n",
        "import matplotlib.pyplot as plt\n",
        "import numpy as np\n",
        "\n",
        "class ProgressPlotter:\n",
        "    def __init__(self, title=\"default\", groups=None) -> None:\n",
        "        self._history_dict = defaultdict(dict)\n",
        "        self.set_title(title)\n",
        "        self.groups = self.get_groups(groups)\n",
        "\n",
        "    def get_groups(self, groups):\n",
        "        if groups is not None:\n",
        "            return self._history_dict.keys()\n",
        "        if type(groups) is str:\n",
        "            groups = [groups]\n",
        "        return groups\n",
        "\n",
        "    def set_title(self, title):\n",
        "        for g in self._history_dict.keys():\n",
        "            self._history_dict[g][title] = [] #reset data\n",
        "        self.title = title\n",
        "\n",
        "    # group e.g. \"loss_val\" tag e.g. \"experiment_1\"\n",
        "    def add_scalar(self, group: str, value, tag=None) -> None:\n",
        "        tag = self.title if tag is None else tag\n",
        "\n",
        "        if not tag in self._history_dict[group]:\n",
        "           self._history_dict[group][tag] = []\n",
        "        self._history_dict[group][tag].append(value)\n",
        "\n",
        "    def add_row(self, group: str, value, tag=None) -> None:\n",
        "        tag = self.title if tag is None else tag\n",
        "        self._history_dict[group][tag] = value\n",
        "\n",
        "    def display_keys(self, ax, data):\n",
        "        history_len = 0\n",
        "        ax.grid()\n",
        "        for key in data:\n",
        "            ax.plot(data[key], label=key)\n",
        "            history_len = max(history_len,len(data[key]))\n",
        "            if len(data) > 1:\n",
        "               ax.legend(loc=\"upper right\")\n",
        "            if history_len < 50:\n",
        "                ax.set_xlabel('step')\n",
        "                ax.set_xticks(np.arange(history_len))\n",
        "                ax.set_xticklabels(np.arange(history_len))\n",
        "\n",
        "    \"\"\"\n",
        "        groups list of keys like [['loss_train','loss_val'],['accuracy']]\n",
        "        All charts within a group will be plot in the same axis\n",
        "    \"\"\"\n",
        "    def display(self, groups=None):\n",
        "        clear_output()\n",
        "        if groups is None:\n",
        "            groups = self.groups\n",
        "        n_groups = len(groups)\n",
        "        fig, ax = plt.subplots(1, n_groups, figsize=(48//n_groups, 3))\n",
        "        if n_groups == 1:\n",
        "            ax = [ax]\n",
        "        for i, g in enumerate(groups):\n",
        "            ax[i].set_ylabel(g)\n",
        "            self.display_keys(ax[i], self.history_dict[g])\n",
        "        fig.tight_layout()\n",
        "        plt.show()\n",
        "\n",
        "    @property\n",
        "    def history_dict(self):\n",
        "        return dict(self._history_dict)"
      ],
      "metadata": {
        "id": "d9Tq2ECevkwF"
      },
      "execution_count": null,
      "outputs": []
    },
    {
      "cell_type": "code",
      "source": [
        "def calculate_accuracy(pred_l, real_l):\n",
        "    correct, total = 0, 0\n",
        "    _, predicted = torch.max(pred_l.data, 1) # get predicted class\n",
        "    total += real_l.size(0) # all examples\n",
        "    correct += (predicted == labels.to(device)).sum().item() # correct predictions\n",
        "    return correct / total"
      ],
      "metadata": {
        "id": "1_BvITHedtrp"
      },
      "execution_count": null,
      "outputs": []
    },
    {
      "cell_type": "markdown",
      "source": [
        "Let's train our network"
      ],
      "metadata": {
        "id": "ISlPeurwSIrX"
      }
    },
    {
      "cell_type": "code",
      "source": [
        "from tqdm import trange\n",
        "\n",
        "num_epochs = 6\n",
        "epochs = trange(num_epochs)\n",
        "\n",
        "# noise characteristics to simulate the real experiment\n",
        "alpha = 0.0 # you can change the level of noise\n",
        "sigma = 100\n",
        "mu = -0.4242\n",
        "\n",
        "model = Net().to(device)\n",
        "criterion = nn.CrossEntropyLoss()\n",
        "optimizer = torch.optim.SGD(model.parameters(), lr=0.001)\n",
        "\n",
        "pp = ProgressPlotter()\n",
        "pp.set_title(f\"alpha=0\")\n",
        "\n",
        "for epoch in epochs:\n",
        "    train_loss = 0\n",
        "    train_acc = 0\n",
        "    for batch in train_loader:\n",
        "        measurements, labels = batch\n",
        "        measurements, labels = measurements.to(device), labels.to(device)\n",
        "\n",
        "        optimizer.zero_grad()\n",
        "        x = measurements[:, most_important]\n",
        "        noise = torch.tensor(alpha * (sigma * np.random.randn(len(x), len(most_important)) + mu))\n",
        "        x_noised = x + noise\n",
        "        pred = model(x_noised)\n",
        "\n",
        "        loss = criterion(pred, labels)\n",
        "        loss.backward()\n",
        "        optimizer.step()\n",
        "\n",
        "        train_loss += loss.item()\n",
        "        train_acc += calculate_accuracy(pred, labels)\n",
        "\n",
        "    test_loss = 0\n",
        "    test_acc = 0\n",
        "    for batch in test_loader:\n",
        "        measurements, labels = batch\n",
        "        measurements, labels = measurements.to(device), labels.to(device)\n",
        "\n",
        "        x = measurements[:, most_important]\n",
        "\n",
        "        pred = model(x)\n",
        "        loss = criterion(pred, labels)\n",
        "\n",
        "        test_loss += loss.item()\n",
        "        test_acc += calculate_accuracy(pred, labels)\n",
        "\n",
        "    pp.add_scalar('Train loss', train_loss / len(train_loader))\n",
        "    pp.add_scalar('Train accuracy', train_acc / len(train_loader))\n",
        "    pp.display(['Train loss','Train accuracy'])"
      ],
      "metadata": {
        "colab": {
          "base_uri": "https://localhost:8080/",
          "height": 167
        },
        "id": "DoD9vCsCh_kZ",
        "outputId": "a605d1a2-5531-41fc-cbf4-57d0beabb959"
      },
      "execution_count": null,
      "outputs": [
        {
          "output_type": "display_data",
          "data": {
            "text/plain": [
              "<Figure size 2400x300 with 2 Axes>"
            ],
            "image/png": "[encoded data removed]"
          },
          "metadata": {}
        },
        {
          "output_type": "stream",
          "name": "stderr",
          "text": [
            "100%|██████████| 6/6 [00:24<00:00,  4.04s/it]\n"
          ]
        }
      ]
    }
  ]
}