{
  "cells": [
    {
      "cell_type": "markdown",
      "metadata": {
        "id": "1bE1daTpXLzF"
      },
      "source": [
        "Fix the seeds"
      ]
    },
    {
      "cell_type": "code",
      "execution_count": 1,
      "metadata": {
        "id": "IoUELGopb5os"
      },
      "outputs": [],
      "source": [
        "import numpy as np\n",
        "import random\n",
        "import torch\n",
        "\n",
        "def set_random_seed(seed):\n",
        "    torch.manual_seed(seed)\n",
        "    np.random.seed(seed)\n",
        "    random.seed(seed)\n",
        "\n",
        "set_random_seed(42)"
      ]
    },
    {
      "cell_type": "markdown",
      "metadata": {
        "id": "BShCVpwvXDSj"
      },
      "source": [
        "# Dataset"
      ]
    },
    {
      "cell_type": "code",
      "execution_count": 2,
      "metadata": {
        "id": "c5plicYsXLzM"
      },
      "outputs": [],
      "source": [
        "!pip -q install torch\n",
        "!pip -q install torchvision"
      ]
    },
    {
      "cell_type": "code",
      "execution_count": 3,
      "metadata": {
        "colab": {
          "base_uri": "https://localhost:8080/"
        },
        "id": "E-5gndPu5Dv4",
        "outputId": "46519641-6d52-4113-a02e-5ad0847b4c96"
      },
      "outputs": [
        {
          "output_type": "stream",
          "name": "stdout",
          "text": [
            "Cuda available:  True \n",
            "\n"
          ]
        }
      ],
      "source": [
        "import torch\n",
        "from scipy.linalg import hadamard\n",
        "\n",
        "device = torch.device(\"cuda:0\" if torch.cuda.is_available() else \"cpu\")\n",
        "print(\"Cuda available: \", torch.cuda.is_available(), '\\n')\n",
        "\n",
        "# Creating Hadamard matrix, where each row is 32x32 hadamard pattern with {-1,1} elements\n",
        "px = 32\n",
        "H = torch.from_numpy(hadamard(px**2)).to(device)\n",
        "# In real (physical) single pixel mesurements we use matrixes\n",
        "Hplus = (H + 1) / 2\n",
        "Hminus = (1 - H) / 2"
      ]
    },
    {
      "cell_type": "markdown",
      "metadata": {
        "id": "1EiBGPL-hYOc"
      },
      "source": [
        "Here are the functions, which create mesurements vectror for all patterns in Hadamard basis"
      ]
    },
    {
      "cell_type": "code",
      "execution_count": 4,
      "metadata": {
        "id": "64SZUotaIGzu"
      },
      "outputs": [],
      "source": [
        "def measurement(img):\n",
        "    Mplus = torch.matmul(Hplus, img.flatten().float()).to(device)\n",
        "    Mminus = torch.matmul(Hminus, img.flatten().float()).to(device)\n",
        "    M = (Mplus - Mminus)\n",
        "\n",
        "    return M"
      ]
    },
    {
      "cell_type": "code",
      "execution_count": 5,
      "metadata": {
        "id": "NVI6D3vsILNY"
      },
      "outputs": [],
      "source": [
        "def batch_measurements(imgs):\n",
        "    vect = torch.zeros(len(imgs), len(imgs[0]) ** 2)\n",
        "\n",
        "    for i in range(len(imgs)):\n",
        "        img = imgs[i].to(device)\n",
        "        vect[i] = measurement(img)\n",
        "\n",
        "    return vect"
      ]
    },
    {
      "cell_type": "markdown",
      "metadata": {
        "id": "1Vy-5MLvieiS"
      },
      "source": [
        "Dataset with single-pixel mesuarements and their class labels"
      ]
    },
    {
      "cell_type": "code",
      "execution_count": 6,
      "metadata": {
        "id": "LreMJx0mx4dd"
      },
      "outputs": [],
      "source": [
        "from torchvision import transforms\n",
        "from torch.utils.data.dataset import Dataset\n",
        "\n",
        "class MesurementDataset(Dataset):\n",
        "    def __init__(self, mnist):\n",
        "        super().__init__()\n",
        "        self.labels = mnist.targets\n",
        "        images = mnist.data\n",
        "        transform = transforms.Compose([transforms.ConvertImageDtype(torch.float32),\n",
        "                                        transforms.Resize(32)])\n",
        "\n",
        "        self.target_images = transform(images)\n",
        "\n",
        "        self.measurements = batch_measurements(self.target_images).cpu()\n",
        "\n",
        "    def __getitem__(self, indx):\n",
        "        return self.measurements[indx], self.labels[indx]\n",
        "\n",
        "    def __len__(self):\n",
        "        return len(self.measurements)"
      ]
    },
    {
      "cell_type": "code",
      "execution_count": 7,
      "metadata": {
        "id": "ybGHfe1pwwKi"
      },
      "outputs": [],
      "source": [
        "import torchvision\n",
        "from torch.utils.data import DataLoader\n",
        "from torchvision.datasets import MNIST\n",
        "from IPython.display import clear_output\n",
        "\n",
        "train_set = MesurementDataset(MNIST(root='./MNIST', train=True, download=True))\n",
        "test_set = MesurementDataset(MNIST(root='./MNIST', train=False, download=True))\n",
        "\n",
        "batch_size = 64\n",
        "# if you use cpu, you have to delete the num_workers\n",
        "train_loader = DataLoader(train_set, batch_size=batch_size, shuffle=True, num_workers=2)\n",
        "test_loader = DataLoader(test_set, batch_size=batch_size, shuffle=False, num_workers=2)\n",
        "\n",
        "clear_output()"
      ]
    },
    {
      "cell_type": "markdown",
      "metadata": {
        "id": "f-UHIgUrTgI4"
      },
      "source": [
        "To create an underdefined system of equlations we need to select the most important ones, so we need to calculate variance"
      ]
    },
    {
      "cell_type": "code",
      "execution_count": 8,
      "metadata": {
        "id": "fQ89CSfLUApe"
      },
      "outputs": [],
      "source": [
        "import numpy as np\n",
        "\n",
        "variance = np.array([])\n",
        "for i in range(1024):\n",
        "    measurements_for_pattern = train_set[:][0][:,i]\n",
        "    variance = np.append(variance, np.var(measurements_for_pattern.numpy()))"
      ]
    },
    {
      "cell_type": "markdown",
      "metadata": {
        "id": "kxuh6pMrK1ix"
      },
      "source": [
        "The most important patterns - with biggest dispersion trough the dataset"
      ]
    },
    {
      "cell_type": "code",
      "execution_count": 9,
      "metadata": {
        "id": "_ViuRknHUEB0"
      },
      "outputs": [],
      "source": [
        "most_important = np.argsort(variance)[-64:]"
      ]
    },
    {
      "cell_type": "markdown",
      "metadata": {
        "id": "-IZB_7hcOWDN"
      },
      "source": [
        "How our data look like"
      ]
    },
    {
      "cell_type": "code",
      "execution_count": 10,
      "metadata": {
        "colab": {
          "base_uri": "https://localhost:8080/",
          "height": 517
        },
        "id": "qyPoaOQCyDDZ",
        "outputId": "02571586-4b05-4fe0-a6d9-8bd943276618"
      },
      "outputs": [
        {
          "output_type": "execute_result",
          "data": {
            "text/plain": [
              "(array([ 1.,  2.,  1., 10., 29., 17.,  3.,  0.,  0.,  1.]),\n",
              " array([-117.36766052,  -91.46697998,  -65.56629181,  -39.66561127,\n",
              "         -13.76492596,   12.13575745,   38.0364418 ,   63.93712616,\n",
              "          89.8378067 ,  115.73849487,  141.63917542]),\n",
              " <BarContainer object of 10 artists>)"
            ]
          },
          "metadata": {},
          "execution_count": 10
        },
        {
          "output_type": "display_data",
          "data": {
            "text/plain": [
              "<Figure size 640x480 with 1 Axes>"
            ],
            "image/png": "[encoded data removed]"
          },
          "metadata": {}
        }
      ],
      "source": [
        "import matplotlib.pyplot as plt\n",
        "\n",
        "plt.hist(train_set[0][0][most_important].numpy())"
      ]
    },
    {
      "cell_type": "markdown",
      "metadata": {
        "id": "KJH2aFxmKf0p"
      },
      "source": [
        "# Model"
      ]
    },
    {
      "cell_type": "code",
      "execution_count": 11,
      "metadata": {
        "id": "s4LDcYwzhHck"
      },
      "outputs": [],
      "source": [
        "import torch.nn as nn\n",
        "\n",
        "class Net(nn.Module):\n",
        "    def __init__(self):\n",
        "        super().__init__()\n",
        "        self.fc1 = nn.Linear(64, 128)\n",
        "        self.fc2 = nn.Linear(128, 10)\n",
        "        self.activation = nn.ReLU()\n",
        "\n",
        "    def forward(self, x):\n",
        "        x = x.view(-1, 64)\n",
        "        x = self.fc1(x)\n",
        "        x = self.activation(x)\n",
        "        x = self.fc2(x)\n",
        "        return x"
      ]
    },
    {
      "cell_type": "markdown",
      "metadata": {
        "id": "veME9ib6a0MZ"
      },
      "source": [
        "Class for plots"
      ]
    },
    {
      "cell_type": "code",
      "execution_count": 12,
      "metadata": {
        "id": "d9Tq2ECevkwF"
      },
      "outputs": [],
      "source": [
        "from IPython.display import clear_output\n",
        "from collections import defaultdict\n",
        "import matplotlib.pyplot as plt\n",
        "import numpy as np\n",
        "\n",
        "class ProgressPlotter:\n",
        "    def __init__(self, title=\"default\", groups=None) -> None:\n",
        "        self._history_dict = defaultdict(dict)\n",
        "        self.set_title(title)\n",
        "        self.groups = self.get_groups(groups)\n",
        "\n",
        "    def get_groups(self, groups):\n",
        "        if groups is not None:\n",
        "            return self._history_dict.keys()\n",
        "        if type(groups) is str:\n",
        "            groups = [groups]\n",
        "        return groups\n",
        "\n",
        "    def set_title(self, title):\n",
        "        for g in self._history_dict.keys():\n",
        "            self._history_dict[g][title] = [] #reset data\n",
        "        self.title = title\n",
        "\n",
        "    # group e.g. \"loss_val\" tag e.g. \"experiment_1\"\n",
        "    def add_scalar(self, group: str, value, tag=None) -> None:\n",
        "        tag = self.title if tag is None else tag\n",
        "\n",
        "        if not tag in self._history_dict[group]:\n",
        "           self._history_dict[group][tag] = []\n",
        "        self._history_dict[group][tag].append(value)\n",
        "\n",
        "    def add_row(self, group: str, value, tag=None) -> None:\n",
        "        tag = self.title if tag is None else tag\n",
        "        self._history_dict[group][tag] = value\n",
        "\n",
        "    def display_keys(self, ax, data):\n",
        "        history_len = 0\n",
        "        ax.grid()\n",
        "        for key in data:\n",
        "            ax.plot(data[key], label=key)\n",
        "            history_len = max(history_len,len(data[key]))\n",
        "            if len(data) > 1:\n",
        "               ax.legend(loc=\"upper right\")\n",
        "            if history_len < 50:\n",
        "                ax.set_xlabel('step')\n",
        "                ax.set_xticks(np.arange(history_len))\n",
        "                ax.set_xticklabels(np.arange(history_len))\n",
        "\n",
        "    \"\"\"\n",
        "        groups list of keys like [['loss_train','loss_val'],['accuracy']]\n",
        "        All charts within a group will be plot in the same axis\n",
        "    \"\"\"\n",
        "    def display(self, groups=None):\n",
        "        clear_output()\n",
        "        if groups is None:\n",
        "            groups = self.groups\n",
        "        n_groups = len(groups)\n",
        "        fig, ax = plt.subplots(1, n_groups, figsize=(48//n_groups, 3))\n",
        "        if n_groups == 1:\n",
        "            ax = [ax]\n",
        "        for i, g in enumerate(groups):\n",
        "            ax[i].set_ylabel(g)\n",
        "            self.display_keys(ax[i], self.history_dict[g])\n",
        "        fig.tight_layout()\n",
        "        plt.show()\n",
        "\n",
        "    @property\n",
        "    def history_dict(self):\n",
        "        return dict(self._history_dict)"
      ]
    },
    {
      "cell_type": "markdown",
      "metadata": {
        "id": "EyZNgLSNXLzT"
      },
      "source": [
        "Accuracy"
      ]
    },
    {
      "cell_type": "code",
      "execution_count": 13,
      "metadata": {
        "id": "1_BvITHedtrp"
      },
      "outputs": [],
      "source": [
        "def calculate_accuracy(pred_l, real_l):\n",
        "    correct, total = 0, 0\n",
        "    _, predicted = torch.max(pred_l.data, 1) # get predicted class\n",
        "    total += real_l.size(0) # all examples\n",
        "    correct += (predicted == labels.to(device)).sum().item() # correct predictions\n",
        "    return correct / total"
      ]
    },
    {
      "cell_type": "markdown",
      "metadata": {
        "id": "ISlPeurwSIrX"
      },
      "source": [
        "Training our network"
      ]
    },
    {
      "cell_type": "code",
      "execution_count": 14,
      "metadata": {
        "colab": {
          "base_uri": "https://localhost:8080/",
          "height": 167
        },
        "id": "DoD9vCsCh_kZ",
        "outputId": "5c5c9e64-d045-4f68-9e71-62da47ee6804"
      },
      "outputs": [
        {
          "output_type": "display_data",
          "data": {
            "text/plain": [
              "<Figure size 2400x300 with 2 Axes>"
            ],
            "image/png": "[encoded data removed]"
          },
          "metadata": {}
        },
        {
          "output_type": "stream",
          "name": "stderr",
          "text": [
            "100%|██████████| 6/6 [00:29<00:00,  4.84s/it]\n"
          ]
        }
      ],
      "source": [
        "from tqdm import trange\n",
        "\n",
        "num_epochs = 6\n",
        "epochs = trange(num_epochs)\n",
        "\n",
        "# noise characteristics to simulate the real experiment\n",
        "alpha = 0.0 # you can change the level of noise\n",
        "sigma = 100\n",
        "mu = -0.4242\n",
        "\n",
        "model = Net().to(device)\n",
        "criterion = nn.CrossEntropyLoss()\n",
        "optimizer = torch.optim.SGD(model.parameters(), lr=0.001)\n",
        "\n",
        "pp = ProgressPlotter()\n",
        "pp.set_title(f\"alpha=0\")\n",
        "\n",
        "for epoch in epochs:\n",
        "    train_loss = 0\n",
        "    train_acc = 0\n",
        "    for i, batch in enumerate(train_loader):\n",
        "        measurements, labels = batch\n",
        "        measurements, labels = measurements.to(device), labels.to(device)\n",
        "\n",
        "        optimizer.zero_grad()\n",
        "        x = measurements[:, most_important].to(device)\n",
        "        noise = torch.tensor(alpha * (sigma * np.random.randn(len(x), len(most_important)) + mu)).to(device)\n",
        "        x_noised = x + noise\n",
        "        pred = model(x_noised.float())\n",
        "\n",
        "        loss = criterion(pred, labels)\n",
        "        loss.backward()\n",
        "        optimizer.step()\n",
        "\n",
        "        train_loss += loss.item()\n",
        "        train_acc += calculate_accuracy(pred, labels)\n",
        "\n",
        "    test_loss = 0\n",
        "    test_acc = 0\n",
        "    for batch in test_loader:\n",
        "        measurements, labels = batch\n",
        "        measurements, labels = measurements.to(device), labels.to(device)\n",
        "\n",
        "        x = measurements[:, most_important].to(device)\n",
        "        noise = torch.tensor(alpha * (sigma * np.random.randn(len(x), len(most_important)) + mu)).to(device)\n",
        "        x_noised = x + noise\n",
        "        pred = model(x_noised.float())\n",
        "\n",
        "        loss = criterion(pred, labels)\n",
        "\n",
        "        test_loss += loss.item()\n",
        "        acc = calculate_accuracy(pred, labels)\n",
        "        test_acc += acc\n",
        "\n",
        "    pp.add_scalar('Train loss', train_loss / len(train_loader))\n",
        "    pp.add_scalar('Train accuracy', train_acc / len(train_loader))\n",
        "    pp.display(['Train loss','Train accuracy'])"
      ]
    }
  ],
  "metadata": {
    "accelerator": "GPU",
    "colab": {
      "gpuType": "T4",
      "provenance": []
    },
    "kernelspec": {
      "display_name": "Python 3",
      "name": "python3"
    },
    "language_info": {
      "name": "python"
    }
  },
  "nbformat": 4,
  "nbformat_minor": 0
}