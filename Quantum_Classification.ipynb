{
 "cells": [
  {
   "cell_type": "markdown",
   "metadata": {},
   "source": [
    "Fix the seeds"
   ]
  },
  {
   "cell_type": "code",
   "execution_count": null,
   "metadata": {
    "id": "dMGqrr4fqsLp"
   },
   "outputs": [],
   "source": [
    "import random\n",
    "import torch\n",
    "import numpy\n",
    "\n",
    "def set_random_seed(seed):\n",
    "    torch.manual_seed(seed)\n",
    "    numpy.random.seed(seed)\n",
    "    random.seed(seed)\n",
    "\n",
    "set_random_seed(42)"
   ]
  },
  {
   "cell_type": "markdown",
   "metadata": {
    "id": "BShCVpwvXDSj"
   },
   "source": [
    "# Dataset"
   ]
  },
  {
   "cell_type": "code",
   "execution_count": null,
   "metadata": {},
   "outputs": [],
   "source": [
    "!pip -q install torch\n",
    "!pip -q install torchvision"
   ]
  },
  {
   "cell_type": "code",
   "execution_count": null,
   "metadata": {
    "colab": {
     "base_uri": "https://localhost:8080/"
    },
    "id": "E-5gndPu5Dv4",
    "outputId": "c4d0473c-7161-481f-b544-cd4d95b9773c"
   },
   "outputs": [
    {
     "name": "stdout",
     "output_type": "stream",
     "text": [
      "Cuda available:  True \n",
      "\n"
     ]
    }
   ],
   "source": [
    "import torch\n",
    "from scipy.linalg import hadamard\n",
    "\n",
    "device = torch.device(\"cuda:0\" if torch.cuda.is_available() else \"cpu\")\n",
    "print(\"Cuda available: \", torch.cuda.is_available(), '\\n')\n",
    "\n",
    "# Creating Hadamard matrix, where each row is 32x32 hadamard pattern with {-1,1} elements\n",
    "px = 32\n",
    "H = torch.from_numpy(hadamard(px**2)).to(device)\n",
    "# In real (physical) single pixel mesurements we use matrixes\n",
    "Hplus = (H + 1) / 2\n",
    "Hminus = (1 - H) / 2"
   ]
  },
  {
   "cell_type": "markdown",
   "metadata": {
    "id": "1EiBGPL-hYOc"
   },
   "source": [
    "Here are the functions, which create mesurements vectror for all patterns in Hadamard basis"
   ]
  },
  {
   "cell_type": "code",
   "execution_count": null,
   "metadata": {
    "id": "64SZUotaIGzu"
   },
   "outputs": [],
   "source": [
    "def measurement(img):\n",
    "    Mplus = torch.matmul(Hplus, img.flatten().float()).to(device)\n",
    "    Mminus = torch.matmul(Hminus, img.flatten().float()).to(device)\n",
    "    M = (Mplus - Mminus)\n",
    "\n",
    "    return M"
   ]
  },
  {
   "cell_type": "code",
   "execution_count": null,
   "metadata": {
    "id": "NVI6D3vsILNY"
   },
   "outputs": [],
   "source": [
    "def batch_measurements(imgs):\n",
    "    vect = torch.zeros(len(imgs), len(imgs[0]) ** 2)\n",
    "\n",
    "    for i in range(len(imgs)):\n",
    "        img = imgs[i].to(device)\n",
    "        vect[i] = measurement(img)\n",
    "\n",
    "    return vect"
   ]
  },
  {
   "cell_type": "markdown",
   "metadata": {
    "id": "1Vy-5MLvieiS"
   },
   "source": [
    "Dataset with single-pixel mesuarements and their class labels"
   ]
  },
  {
   "cell_type": "code",
   "execution_count": null,
   "metadata": {
    "id": "LreMJx0mx4dd"
   },
   "outputs": [],
   "source": [
    "from torchvision import transforms\n",
    "from torch.utils.data.dataset import Dataset\n",
    "\n",
    "class MesurementDataset(Dataset):\n",
    "    def __init__(self, mnist):\n",
    "        super().__init__()\n",
    "        self.labels = mnist.targets\n",
    "        images = mnist.data\n",
    "        transform = transforms.Compose([transforms.ConvertImageDtype(torch.float32),\n",
    "                                        transforms.Resize(32)])\n",
    "\n",
    "        self.target_images = transform(images)\n",
    "\n",
    "        self.measurements = batch_measurements(self.target_images).cpu()\n",
    "\n",
    "    def __getitem__(self, indx):\n",
    "        return self.measurements[indx], self.labels[indx]\n",
    "\n",
    "    def __len__(self):\n",
    "        return len(self.measurements)"
   ]
  },
  {
   "cell_type": "code",
   "execution_count": null,
   "metadata": {
    "id": "ybGHfe1pwwKi"
   },
   "outputs": [],
   "source": [
    "import torchvision\n",
    "from torch.utils.data import DataLoader\n",
    "from torchvision.datasets import MNIST\n",
    "from IPython.display import clear_output\n",
    "\n",
    "train_set = MesurementDataset(MNIST(root='./MNIST', train=True, download=True))\n",
    "test_set = MesurementDataset(MNIST(root='./MNIST', train=False, download=True))\n",
    "\n",
    "batch_size = 64\n",
    "train_loader = DataLoader(train_set, batch_size=batch_size, shuffle=True, num_workers=2)\n",
    "test_loader = DataLoader(test_set, batch_size=batch_size, shuffle=False, num_workers=2)\n",
    "\n",
    "clear_output()"
   ]
  },
  {
   "cell_type": "markdown",
   "metadata": {
    "id": "f-UHIgUrTgI4"
   },
   "source": [
    "To create an underdefined system of equlations we need to select the most important ones, so we need to calculate variance"
   ]
  },
  {
   "cell_type": "code",
   "execution_count": null,
   "metadata": {
    "id": "fQ89CSfLUApe"
   },
   "outputs": [],
   "source": [
    "import numpy as np\n",
    "\n",
    "variance = np.array([])\n",
    "for i in range(1024):\n",
    "    measurements_for_pattern = train_set[:][0][:,i]\n",
    "    variance = np.append(variance, np.var(measurements_for_pattern.numpy()))"
   ]
  },
  {
   "cell_type": "markdown",
   "metadata": {
    "id": "kxuh6pMrK1ix"
   },
   "source": [
    "The most important patterns - with biggest dispersion trough the dataset"
   ]
  },
  {
   "cell_type": "code",
   "execution_count": null,
   "metadata": {
    "id": "_ViuRknHUEB0"
   },
   "outputs": [],
   "source": [
    "most_important = np.argsort(variance)[-64:]"
   ]
  },
  {
   "cell_type": "markdown",
   "metadata": {
    "id": "6IFBmLlu24s8"
   },
   "source": [
    "# Model"
   ]
  },
  {
   "cell_type": "code",
   "execution_count": 1,
   "metadata": {
    "id": "MgdmB2in1IDD"
   },
   "outputs": [],
   "source": [
    "!pip -q install pennylane"
   ]
  },
  {
   "cell_type": "markdown",
   "metadata": {
    "id": "35fE2dHNoNuL"
   },
   "source": [
    "Model characteristics"
   ]
  },
  {
   "cell_type": "code",
   "execution_count": 6,
   "metadata": {
    "id": "yBGJfk0SyqSu"
   },
   "outputs": [],
   "source": [
    "num_classes = 10\n",
    "feature_size = 64\n",
    "# number of qubits - logarithm of numbers of features\n",
    "num_qubits = int(np.ceil(np.log2(feature_size)))\n",
    "\n",
    "num_layers = 6\n",
    "margin = 0.15\n",
    "\n",
    "lr = 0.01\n",
    "num_epochs = 3\n",
    "batch_size = 10\n",
    "\n",
    "dev = qml.device(\"default.qubit\", wires=num_qubits)"
   ]
  },
  {
   "cell_type": "markdown",
   "metadata": {
    "id": "wd7LuKoFqo5H"
   },
   "source": [
    "Creating variational quantum circuit"
   ]
  },
  {
   "cell_type": "code",
   "execution_count": 3,
   "metadata": {
    "id": "62oIzmjn0OBE"
   },
   "outputs": [],
   "source": [
    "import pennylane as qml\n",
    "\n",
    "# strongly entangled layer\n",
    "def layer(W):\n",
    "    for i in range(num_qubits):\n",
    "        qml.Rot(W[i, 0], W[i, 1], W[i, 2], wires=i)\n",
    "    for j in range(num_qubits - 1):\n",
    "        qml.CNOT(wires=[j, j + 1])\n",
    "    if num_qubits >= 2:\n",
    "        qml.CNOT(wires=[num_qubits - 1, 0])"
   ]
  },
  {
   "cell_type": "code",
   "execution_count": 7,
   "metadata": {
    "id": "3pw2OX7i1UaU"
   },
   "outputs": [],
   "source": [
    "def circuit(weights, feat=None):\n",
    "    qml.AmplitudeEmbedding(feat, range(num_qubits), pad_with=0.0, normalize=True)\n",
    "\n",
    "    for W in weights:\n",
    "        layer(W)\n",
    "\n",
    "    return qml.expval(qml.PauliZ(0)) # observable\n",
    "\n",
    "# for ten different classifiers\n",
    "qnodes = []\n",
    "for iq in range(num_classes):\n",
    "    qnode = qml.QNode(circuit, dev, interface=\"torch\")\n",
    "    qnodes.append(qnode)"
   ]
  },
  {
   "cell_type": "code",
   "execution_count": null,
   "metadata": {
    "id": "mFDcWJuT19ey"
   },
   "outputs": [],
   "source": [
    "def variational_classifier(q_circuit, params, feat):\n",
    "    weights = params[0]\n",
    "    bias = params[1]\n",
    "    return q_circuit(weights, feat=feat) + bias"
   ]
  },
  {
   "cell_type": "markdown",
   "metadata": {
    "id": "wGItyZDwqzxE"
   },
   "source": [
    "How one classifier looks like (state preparation, one layer measurements)"
   ]
  },
  {
   "cell_type": "code",
   "execution_count": 9,
   "metadata": {
    "colab": {
     "base_uri": "https://localhost:8080/",
     "height": 188
    },
    "id": "RWSe4lE_oxm9",
    "outputId": "c91b5617-dbb1-4ecd-e45e-108bff32d3b9"
   },
   "outputs": [
    {
     "data": {
      "image/png": "[encoded data removed]",
      "text/plain": [
       "<Figure size 1100x700 with 1 Axes>"
      ]
     },
     "metadata": {},
     "output_type": "display_data"
    }
   ],
   "source": [
    "from matplotlib import pyplot as plt\n",
    "from torch.autograd import Variable\n",
    "\n",
    "angles = Variable(0.1 * torch.randn(1, 10, 3), requires_grad=True)\n",
    "feat = torch.randn(64)\n",
    "params = (angles,)\n",
    "\n",
    "fig, ax = qml.draw_mpl(circuit)(params[0], feat)\n",
    "plt.show()"
   ]
  },
  {
   "cell_type": "markdown",
   "metadata": {
    "id": "kjcLhAoVrFIT"
   },
   "source": [
    "Margin loss for the results of ten classifiers"
   ]
  },
  {
   "cell_type": "code",
   "execution_count": null,
   "metadata": {
    "id": "mW5g2MX12Hqe"
   },
   "outputs": [],
   "source": [
    "import time\n",
    "def margin_loss(q_circuits, all_params, feature_vecs, true_labels):\n",
    "    loss = 0\n",
    "    num_samples = len(true_labels)\n",
    "    for i, feature_vec in enumerate(feature_vecs):\n",
    "        feature_vec = feature_vec.to(device)\n",
    "\n",
    "        # Let's calculate the score assigned to this sample by the classifier corresponding to the true label\n",
    "        s_true = variational_classifier(q_circuits[int(true_labels[i])],\n",
    "                                        (all_params[0][int(true_labels[i])], all_params[1][int(true_labels[i])]),\n",
    "                                        feature_vec)\n",
    "        s_true = s_true.float()\n",
    "\n",
    "        # Let's get values for the wrong classes\n",
    "        li = 0\n",
    "        for j in range(num_classes):\n",
    "            if j != int(true_labels[i]):\n",
    "                s_j = variational_classifier(q_circuits[j],\n",
    "                                            (all_params[0][j], all_params[1][j]),\n",
    "                                             feature_vec)\n",
    "                s_j = s_j.float()\n",
    "                li += torch.max(torch.zeros(1).to(device).float(), s_j - s_true + margin)\n",
    "        loss += li\n",
    "\n",
    "    return loss / num_samples"
   ]
  },
  {
   "cell_type": "markdown",
   "metadata": {},
   "source": [
    "To get prediction and it's accuracy"
   ]
  },
  {
   "cell_type": "code",
   "execution_count": null,
   "metadata": {
    "id": "mHlStyip6FIi"
   },
   "outputs": [],
   "source": [
    "def classify(q_circuits, all_params, feature_vecs):\n",
    "    predicted_labels = []\n",
    "    for feature_vec in feature_vecs:\n",
    "        scores = np.zeros(num_classes)\n",
    "        for c in range(num_classes):\n",
    "            score = variational_classifier(q_circuits[c],\n",
    "                                           (all_params[0][c], all_params[1][c]),\n",
    "                                           feature_vec)\n",
    "            scores[c] = float(score)\n",
    "        pred_class = np.argmax(scores)\n",
    "        predicted_labels.append(pred_class)\n",
    "    return predicted_labels\n",
    "\n",
    "\n",
    "def accuracy(labels, hard_predictions):\n",
    "    acc = 0\n",
    "    for l, p in zip(labels, hard_predictions):\n",
    "        if torch.abs(l - p) < 1e-5:\n",
    "            acc += 1\n",
    "    acc = acc / labels.shape[0]\n",
    "    return acc"
   ]
  },
  {
   "cell_type": "markdown",
   "metadata": {
    "id": "utlD9kV4rk-k"
   },
   "source": [
    "Class for plots"
   ]
  },
  {
   "cell_type": "code",
   "execution_count": null,
   "metadata": {
    "id": "GZKVd9k5CLc_"
   },
   "outputs": [],
   "source": [
    "from collections import defaultdict\n",
    "\n",
    "import matplotlib.pyplot as plt\n",
    "import numpy as np\n",
    "from IPython.display import clear_output\n",
    "\n",
    "\n",
    "class ProgressPlotter:\n",
    "    def __init__(self) -> None:\n",
    "        self._history_dict = defaultdict(list)\n",
    "\n",
    "    def add_scalar(self, tag: str, value) -> None:\n",
    "        self._history_dict[tag].append(value)\n",
    "\n",
    "    def display_plot(self) -> None:\n",
    "        clear_output()\n",
    "        n_keys = len(self._history_dict)\n",
    "        fig, ax = plt.subplots(n_keys, 1, figsize=(12, 3 * n_keys))\n",
    "        for key_idx, key in enumerate(self._history_dict.keys()):\n",
    "            history_len = len(self._history_dict[key])\n",
    "            if n_keys == 1:\n",
    "                ax.plot(self._history_dict[key], color=\"c\", marker=\"X\")\n",
    "                ax.set_ylabel(key)\n",
    "                ax.set_xlabel(\"step\")\n",
    "                ax.set_xticks(np.arange(history_len))\n",
    "                ax.set_xticklabels(np.arange(history_len))\n",
    "            elif n_keys > 1:\n",
    "                ax[key_idx].plot(self._history_dict[key], color=\"c\", marker=\"X\")\n",
    "                ax[key_idx].set_ylabel(key)\n",
    "                ax[key_idx].set_xlabel(\"step\")\n",
    "                ax[key_idx].set_xticks(np.arange(history_len))\n",
    "                ax[key_idx].set_xticklabels(np.arange(history_len))\n",
    "        fig.tight_layout()\n",
    "        plt.show()"
   ]
  },
  {
   "cell_type": "markdown",
   "metadata": {},
   "source": [
    "Training"
   ]
  },
  {
   "cell_type": "code",
   "execution_count": null,
   "metadata": {
    "colab": {
     "base_uri": "https://localhost:8080/",
     "height": 604,
     "referenced_widgets": [
      "2815c049e27c48f9aa23cc2641163b67",
      "81fc7bd62b134be993d8b814887882e9",
      "dfe36e14f5864400a2994ac0833076a6",
      "6777011687ba45d4b188a17922a46eaf",
      "80c53380f3474f998d450d6130ece84d",
      "9531a2f5696245f592fdd260e0870ede",
      "f8b815a265f743b0914efe9a4f24b35e",
      "4208763ca84f4c1497d0e5e1178123f1",
      "7f6a582de99b430ea46d7c2a793660a2",
      "78e320db4bee4f9caae3df91d35553c1",
      "a09986708e964642ad159832c3eb9705"
     ]
    },
    "id": "EM11NnQ66hsb",
    "outputId": "7f5ceeac-b13c-477f-d3d0-b0ffa62b85d7"
   },
   "outputs": [
    {
     "data": {
      "image/png": "[encoded data removed]",
      "text/plain": [
       "<Figure size 1200x600 with 2 Axes>"
      ]
     },
     "metadata": {},
     "output_type": "display_data"
    },
    {
     "name": "stdout",
     "output_type": "stream",
     "text": [
      "CPU times: user 2d 1h 5min 53s, sys: 29.3 s, total: 2d 1h 6min 22s\n",
      "Wall time: 2d 1h 6min 7s\n"
     ]
    }
   ],
   "source": [
    "%%time\n",
    "\n",
    "from torch.autograd import Variable\n",
    "import torch.optim as optim\n",
    "\n",
    "device = torch.device(\"cpu\")\n",
    "\n",
    "pp = ProgressPlotter()\n",
    "q_circuits = qnodes\n",
    "\n",
    "device = \"\"\n",
    "\n",
    "# random parameters initialization\n",
    "all_angles = [Variable(0.1 * torch.randn(num_layers, num_qubits, 3).to(device), requires_grad=True) for i in range(num_classes)]\n",
    "all_biases = [Variable(0.1 * torch.ones(1).to(device), requires_grad=True) for i in range(num_classes)]\n",
    "\n",
    "optimizer = optim.Adam(all_angles + all_biases, lr=lr)\n",
    "\n",
    "params = (all_angles, all_biases)\n",
    "print(\"Num params: \", num_classes * (3 * num_layers * num_qubits * 3 + 1))\n",
    "\n",
    "for e in range(num_epochs):\n",
    "    loss = 0\n",
    "    for i, batch in enumerate(train_loader):\n",
    "        measurements, labels = batch\n",
    "        measurements, labels = measurements.to(device), labels.to(device)\n",
    "\n",
    "        x = measurements[:, most_important].to(device)\n",
    "\n",
    "        optimizer.zero_grad()\n",
    "\n",
    "        curr_cost = margin_loss(q_circuits, params, x, labels)\n",
    "        loss += curr_cost.detach().cpu().numpy()[0]\n",
    "        curr_cost.backward()\n",
    "\n",
    "        optimizer.step()\n",
    "\n",
    "        print(f\"Train: Epoch {e}, batch #{i+1}/{len(train_loader)}, loss={curr_cost.detach().cpu().numpy()[0]}\")\n",
    "\n",
    "    loss /= len(train_loader)\n",
    "\n",
    "    acc = 0\n",
    "    for i, batch in enumerate(test_loader):\n",
    "        measurements, labels = batch\n",
    "        measurements, labels = measurements.to(device), labels.to(device)\n",
    "\n",
    "        x = measurements[:, most_important].to(device)\n",
    "\n",
    "        pred = classify(q_circuits, params, x)\n",
    "        acc += accuracy(labels, pred)\n",
    "\n",
    "        print(f\"Validation: Epoch {e}, batch #{i+1}/{len(test_loader)}, accuracy={accuracy(labels, pred)}\")\n",
    "\n",
    "    acc /= len(test_loader)\n",
    "\n",
    "    pp.add_scalar(tag=\"loss\", value=loss)\n",
    "    pp.add_scalar(tag=\"accuracy\", value=acc)\n",
    "    pp.display_plot()"
   ]
  }
 ],
 "metadata": {
  "accelerator": "GPU",
  "colab": {
   "provenance": []
  },
  "gpuClass": "standard",
  "kernelspec": {
   "display_name": "Python 3 (ipykernel)",
   "language": "python",
   "name": "python3"
  },
  "language_info": {
   "codemirror_mode": {
    "name": "ipython",
    "version": 3
   },
   "file_extension": ".py",
   "mimetype": "text/x-python",
   "name": "python",
   "nbconvert_exporter": "python",
   "pygments_lexer": "ipython3",
   "version": "3.11.5"
  },
  "widgets": {
   "application/vnd.jupyter.widget-state+json": {
    "2815c049e27c48f9aa23cc2641163b67": {
     "model_module": "@jupyter-widgets/controls",
     "model_module_version": "1.5.0",
     "model_name": "HBoxModel",
     "state": {
      "_dom_classes": [],
      "_model_module": "@jupyter-widgets/controls",
      "_model_module_version": "1.5.0",
      "_model_name": "HBoxModel",
      "_view_count": null,
      "_view_module": "@jupyter-widgets/controls",
      "_view_module_version": "1.5.0",
      "_view_name": "HBoxView",
      "box_style": "",
      "children": [
       "IPY_MODEL_81fc7bd62b134be993d8b814887882e9",
       "IPY_MODEL_dfe36e14f5864400a2994ac0833076a6",
       "IPY_MODEL_6777011687ba45d4b188a17922a46eaf"
      ],
      "layout": "IPY_MODEL_80c53380f3474f998d450d6130ece84d"
     }
    },
    "4208763ca84f4c1497d0e5e1178123f1": {
     "model_module": "@jupyter-widgets/base",
     "model_module_version": "1.2.0",
     "model_name": "LayoutModel",
     "state": {
      "_model_module": "@jupyter-widgets/base",
      "_model_module_version": "1.2.0",
      "_model_name": "LayoutModel",
      "_view_count": null,
      "_view_module": "@jupyter-widgets/base",
      "_view_module_version": "1.2.0",
      "_view_name": "LayoutView",
      "align_content": null,
      "align_items": null,
      "align_self": null,
      "border": null,
      "bottom": null,
      "display": null,
      "flex": null,
      "flex_flow": null,
      "grid_area": null,
      "grid_auto_columns": null,
      "grid_auto_flow": null,
      "grid_auto_rows": null,
      "grid_column": null,
      "grid_gap": null,
      "grid_row": null,
      "grid_template_areas": null,
      "grid_template_columns": null,
      "grid_template_rows": null,
      "height": null,
      "justify_content": null,
      "justify_items": null,
      "left": null,
      "margin": null,
      "max_height": null,
      "max_width": null,
      "min_height": null,
      "min_width": null,
      "object_fit": null,
      "object_position": null,
      "order": null,
      "overflow": null,
      "overflow_x": null,
      "overflow_y": null,
      "padding": null,
      "right": null,
      "top": null,
      "visibility": null,
      "width": null
     }
    },
    "6777011687ba45d4b188a17922a46eaf": {
     "model_module": "@jupyter-widgets/controls",
     "model_module_version": "1.5.0",
     "model_name": "HTMLModel",
     "state": {
      "_dom_classes": [],
      "_model_module": "@jupyter-widgets/controls",
      "_model_module_version": "1.5.0",
      "_model_name": "HTMLModel",
      "_view_count": null,
      "_view_module": "@jupyter-widgets/controls",
      "_view_module_version": "1.5.0",
      "_view_name": "HTMLView",
      "description": "",
      "description_tooltip": null,
      "layout": "IPY_MODEL_78e320db4bee4f9caae3df91d35553c1",
      "placeholder": "​",
      "style": "IPY_MODEL_a09986708e964642ad159832c3eb9705",
      "value": " 1/469 [07:03&lt;53:41:19, 412.99s/it]"
     }
    },
    "78e320db4bee4f9caae3df91d35553c1": {
     "model_module": "@jupyter-widgets/base",
     "model_module_version": "1.2.0",
     "model_name": "LayoutModel",
     "state": {
      "_model_module": "@jupyter-widgets/base",
      "_model_module_version": "1.2.0",
      "_model_name": "LayoutModel",
      "_view_count": null,
      "_view_module": "@jupyter-widgets/base",
      "_view_module_version": "1.2.0",
      "_view_name": "LayoutView",
      "align_content": null,
      "align_items": null,
      "align_self": null,
      "border": null,
      "bottom": null,
      "display": null,
      "flex": null,
      "flex_flow": null,
      "grid_area": null,
      "grid_auto_columns": null,
      "grid_auto_flow": null,
      "grid_auto_rows": null,
      "grid_column": null,
      "grid_gap": null,
      "grid_row": null,
      "grid_template_areas": null,
      "grid_template_columns": null,
      "grid_template_rows": null,
      "height": null,
      "justify_content": null,
      "justify_items": null,
      "left": null,
      "margin": null,
      "max_height": null,
      "max_width": null,
      "min_height": null,
      "min_width": null,
      "object_fit": null,
      "object_position": null,
      "order": null,
      "overflow": null,
      "overflow_x": null,
      "overflow_y": null,
      "padding": null,
      "right": null,
      "top": null,
      "visibility": null,
      "width": null
     }
    },
    "7f6a582de99b430ea46d7c2a793660a2": {
     "model_module": "@jupyter-widgets/controls",
     "model_module_version": "1.5.0",
     "model_name": "ProgressStyleModel",
     "state": {
      "_model_module": "@jupyter-widgets/controls",
      "_model_module_version": "1.5.0",
      "_model_name": "ProgressStyleModel",
      "_view_count": null,
      "_view_module": "@jupyter-widgets/base",
      "_view_module_version": "1.2.0",
      "_view_name": "StyleView",
      "bar_color": null,
      "description_width": ""
     }
    },
    "80c53380f3474f998d450d6130ece84d": {
     "model_module": "@jupyter-widgets/base",
     "model_module_version": "1.2.0",
     "model_name": "LayoutModel",
     "state": {
      "_model_module": "@jupyter-widgets/base",
      "_model_module_version": "1.2.0",
      "_model_name": "LayoutModel",
      "_view_count": null,
      "_view_module": "@jupyter-widgets/base",
      "_view_module_version": "1.2.0",
      "_view_name": "LayoutView",
      "align_content": null,
      "align_items": null,
      "align_self": null,
      "border": null,
      "bottom": null,
      "display": null,
      "flex": null,
      "flex_flow": null,
      "grid_area": null,
      "grid_auto_columns": null,
      "grid_auto_flow": null,
      "grid_auto_rows": null,
      "grid_column": null,
      "grid_gap": null,
      "grid_row": null,
      "grid_template_areas": null,
      "grid_template_columns": null,
      "grid_template_rows": null,
      "height": null,
      "justify_content": null,
      "justify_items": null,
      "left": null,
      "margin": null,
      "max_height": null,
      "max_width": null,
      "min_height": null,
      "min_width": null,
      "object_fit": null,
      "object_position": null,
      "order": null,
      "overflow": null,
      "overflow_x": null,
      "overflow_y": null,
      "padding": null,
      "right": null,
      "top": null,
      "visibility": null,
      "width": null
     }
    },
    "81fc7bd62b134be993d8b814887882e9": {
     "model_module": "@jupyter-widgets/controls",
     "model_module_version": "1.5.0",
     "model_name": "HTMLModel",
     "state": {
      "_dom_classes": [],
      "_model_module": "@jupyter-widgets/controls",
      "_model_module_version": "1.5.0",
      "_model_name": "HTMLModel",
      "_view_count": null,
      "_view_module": "@jupyter-widgets/controls",
      "_view_module_version": "1.5.0",
      "_view_name": "HTMLView",
      "description": "",
      "description_tooltip": null,
      "layout": "IPY_MODEL_9531a2f5696245f592fdd260e0870ede",
      "placeholder": "​",
      "style": "IPY_MODEL_f8b815a265f743b0914efe9a4f24b35e",
      "value": "  0%"
     }
    },
    "9531a2f5696245f592fdd260e0870ede": {
     "model_module": "@jupyter-widgets/base",
     "model_module_version": "1.2.0",
     "model_name": "LayoutModel",
     "state": {
      "_model_module": "@jupyter-widgets/base",
      "_model_module_version": "1.2.0",
      "_model_name": "LayoutModel",
      "_view_count": null,
      "_view_module": "@jupyter-widgets/base",
      "_view_module_version": "1.2.0",
      "_view_name": "LayoutView",
      "align_content": null,
      "align_items": null,
      "align_self": null,
      "border": null,
      "bottom": null,
      "display": null,
      "flex": null,
      "flex_flow": null,
      "grid_area": null,
      "grid_auto_columns": null,
      "grid_auto_flow": null,
      "grid_auto_rows": null,
      "grid_column": null,
      "grid_gap": null,
      "grid_row": null,
      "grid_template_areas": null,
      "grid_template_columns": null,
      "grid_template_rows": null,
      "height": null,
      "justify_content": null,
      "justify_items": null,
      "left": null,
      "margin": null,
      "max_height": null,
      "max_width": null,
      "min_height": null,
      "min_width": null,
      "object_fit": null,
      "object_position": null,
      "order": null,
      "overflow": null,
      "overflow_x": null,
      "overflow_y": null,
      "padding": null,
      "right": null,
      "top": null,
      "visibility": null,
      "width": null
     }
    },
    "a09986708e964642ad159832c3eb9705": {
     "model_module": "@jupyter-widgets/controls",
     "model_module_version": "1.5.0",
     "model_name": "DescriptionStyleModel",
     "state": {
      "_model_module": "@jupyter-widgets/controls",
      "_model_module_version": "1.5.0",
      "_model_name": "DescriptionStyleModel",
      "_view_count": null,
      "_view_module": "@jupyter-widgets/base",
      "_view_module_version": "1.2.0",
      "_view_name": "StyleView",
      "description_width": ""
     }
    },
    "dfe36e14f5864400a2994ac0833076a6": {
     "model_module": "@jupyter-widgets/controls",
     "model_module_version": "1.5.0",
     "model_name": "FloatProgressModel",
     "state": {
      "_dom_classes": [],
      "_model_module": "@jupyter-widgets/controls",
      "_model_module_version": "1.5.0",
      "_model_name": "FloatProgressModel",
      "_view_count": null,
      "_view_module": "@jupyter-widgets/controls",
      "_view_module_version": "1.5.0",
      "_view_name": "ProgressView",
      "bar_style": "danger",
      "description": "",
      "description_tooltip": null,
      "layout": "IPY_MODEL_4208763ca84f4c1497d0e5e1178123f1",
      "max": 469,
      "min": 0,
      "orientation": "horizontal",
      "style": "IPY_MODEL_7f6a582de99b430ea46d7c2a793660a2",
      "value": 1
     }
    },
    "f8b815a265f743b0914efe9a4f24b35e": {
     "model_module": "@jupyter-widgets/controls",
     "model_module_version": "1.5.0",
     "model_name": "DescriptionStyleModel",
     "state": {
      "_model_module": "@jupyter-widgets/controls",
      "_model_module_version": "1.5.0",
      "_model_name": "DescriptionStyleModel",
      "_view_count": null,
      "_view_module": "@jupyter-widgets/base",
      "_view_module_version": "1.2.0",
      "_view_name": "StyleView",
      "description_width": ""
     }
    }
   }
  }
 },
 "nbformat": 4,
 "nbformat_minor": 1
}
